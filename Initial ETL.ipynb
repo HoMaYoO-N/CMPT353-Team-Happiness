{
 "cells": [
  {
   "cell_type": "code",
   "execution_count": 1,
   "metadata": {},
   "outputs": [],
   "source": [
    "import numpy as np\n",
    "import pandas as pd\n",
    "import difflib as dl"
   ]
  },
  {
   "cell_type": "code",
   "execution_count": 2,
   "metadata": {},
   "outputs": [],
   "source": [
    "borders = pd.read_csv('GEODATASOURCE-COUNTRY-BORDERS.csv')\n",
    "data15 = pd.read_csv('2015.csv')\n",
    "data16 = pd.read_csv('2016.csv')\n",
    "data17 = pd.read_csv('2017.csv')\n",
    "data17 = data17.rename(columns = {'Happiness.Score': 'Happiness Score'})"
   ]
  },
  {
   "cell_type": "code",
   "execution_count": 3,
   "metadata": {},
   "outputs": [],
   "source": [
    "borders = borders[['country_name', 'country_border_name']]\n",
    "borders = borders[borders['country_border_name'].notnull()]\n",
    "data15 = data15[['Country', 'Happiness Score']]\n",
    "data16 = data16[['Country', 'Happiness Score']]\n",
    "data17 = data17[['Country', 'Happiness Score']]"
   ]
  },
  {
   "cell_type": "code",
   "execution_count": 4,
   "metadata": {},
   "outputs": [],
   "source": [
    "names = data15['Country'].values\n",
    "def nameReplace(oldName):\n",
    "    newName = dl.get_close_matches(oldName[:10], names)\n",
    "    if not newName:\n",
    "        return ''\n",
    "    return newName[0]"
   ]
  },
  {
   "cell_type": "code",
   "execution_count": 5,
   "metadata": {},
   "outputs": [],
   "source": [
    "borders['country_name'] = borders['country_name'].apply(nameReplace)\n",
    "borders['country_border_name'] = borders['country_border_name'].apply(nameReplace)\n",
    "borders = borders[borders['country_name'] != '']\n",
    "borders = borders[borders['country_border_name'] != '']"
   ]
  },
  {
   "cell_type": "code",
   "execution_count": 6,
   "metadata": {},
   "outputs": [],
   "source": [
    "borders = borders.merge(data15, how='left', left_on='country_border_name', right_on='Country').rename(columns = {'Happiness Score': 'Happiness Score 2015'})\n",
    "borders = borders.drop(['Country'], axis=1)\n",
    "borders = borders.merge(data16, how='left', left_on='country_border_name', right_on='Country').rename(columns = {'Happiness Score': 'Happiness Score 2016'})\n",
    "borders = borders.drop(['Country'], axis=1)\n",
    "borders = borders.merge(data17, how='left', left_on='country_border_name', right_on='Country').rename(columns = {'Happiness Score': 'Happiness Score 2017'})\n",
    "borders = borders.drop(['Country'], axis=1)\n",
    "borders = borders.rename(columns = {'country_name': 'Country Name', \n",
    "                                    'country_border_name': 'Country Border Name'})"
   ]
  },
  {
   "cell_type": "code",
   "execution_count": 7,
   "metadata": {},
   "outputs": [],
   "source": [
    "borders.to_csv('Three-Year-Data.csv')"
   ]
  },
  {
   "cell_type": "code",
   "execution_count": null,
   "metadata": {},
   "outputs": [],
   "source": []
  },
  {
   "cell_type": "code",
   "execution_count": null,
   "metadata": {},
   "outputs": [],
   "source": [
    "\n"
   ]
  },
  {
   "cell_type": "code",
   "execution_count": null,
   "metadata": {},
   "outputs": [],
   "source": []
  },
  {
   "cell_type": "code",
   "execution_count": null,
   "metadata": {},
   "outputs": [],
   "source": []
  },
  {
   "cell_type": "code",
   "execution_count": null,
   "metadata": {},
   "outputs": [],
   "source": []
  },
  {
   "cell_type": "code",
   "execution_count": null,
   "metadata": {},
   "outputs": [],
   "source": []
  },
  {
   "cell_type": "code",
   "execution_count": null,
   "metadata": {},
   "outputs": [],
   "source": []
  },
  {
   "cell_type": "code",
   "execution_count": null,
   "metadata": {},
   "outputs": [],
   "source": []
  },
  {
   "cell_type": "code",
   "execution_count": null,
   "metadata": {},
   "outputs": [],
   "source": []
  }
 ],
 "metadata": {
  "kernelspec": {
   "display_name": "Python 3",
   "language": "python",
   "name": "python3"
  },
  "language_info": {
   "codemirror_mode": {
    "name": "ipython",
    "version": 3
   },
   "file_extension": ".py",
   "mimetype": "text/x-python",
   "name": "python",
   "nbconvert_exporter": "python",
   "pygments_lexer": "ipython3",
   "version": "3.7.3"
  }
 },
 "nbformat": 4,
 "nbformat_minor": 2
}
