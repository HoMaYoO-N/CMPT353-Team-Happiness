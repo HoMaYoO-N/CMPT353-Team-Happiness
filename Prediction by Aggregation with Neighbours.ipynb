{
 "cells": [
  {
   "cell_type": "code",
   "execution_count": 10,
   "metadata": {},
   "outputs": [],
   "source": [
    "import numpy as np\n",
    "import pandas as pd\n",
    "import difflib as dl"
   ]
  },
  {
   "cell_type": "code",
   "execution_count": 11,
   "metadata": {},
   "outputs": [],
   "source": [
    "data = pd.read_csv('Three-Year-Data.csv')"
   ]
  },
  {
   "cell_type": "code",
   "execution_count": 12,
   "metadata": {},
   "outputs": [],
   "source": [
    "avg2015 = data.groupby('Country Name')['Happiness Score 2015'].mean()\n",
    "avg2016 = data.groupby('Country Name')['Happiness Score 2016'].mean()\n",
    "avg2017 = data.groupby('Country Name')['Happiness Score 2017'].mean()"
   ]
  },
  {
   "cell_type": "code",
   "execution_count": 9,
   "metadata": {},
   "outputs": [
    {
     "data": {
      "text/plain": [
       "Country Name\n",
       "Afghanistan               5.305167\n",
       "Albania                   5.123000\n",
       "Algeria                   4.656833\n",
       "Angola                    4.839167\n",
       "Argentina                 6.312400\n",
       "Armenia                   4.936250\n",
       "Austria                   6.102286\n",
       "Azerbaijan                4.934000\n",
       "Bangladesh                4.399500\n",
       "Belarus                   5.477600\n",
       "Belgium                   6.797333\n",
       "Benin                     3.943250\n",
       "Bhutan                    4.824500\n",
       "Bolivia                   6.317600\n",
       "Bosnia and Herzegovina    5.275333\n",
       "Botswana                  4.560500\n",
       "Brazil                    5.934222\n",
       "Bulgaria                  5.249600\n",
       "Burkina Faso              3.798400\n",
       "Burundi                   3.494667\n",
       "Cambodia                  5.470333\n",
       "Cameroon                  4.015500\n",
       "Canada                    7.104000\n",
       "Chad                      4.599600\n",
       "Chile                     6.071667\n",
       "China                     5.394350\n",
       "Colombia                  6.291200\n",
       "Costa Rica                6.346500\n",
       "Croatia                   5.282800\n",
       "Denmark                   6.994000\n",
       "                            ...   \n",
       "Sierra Leone              3.614500\n",
       "Slovakia                  5.533600\n",
       "Slovenia                  5.932250\n",
       "South Africa              4.320667\n",
       "South Korea               4.757333\n",
       "Spain                     5.154500\n",
       "Sudan                     4.816600\n",
       "Suriname                  5.614000\n",
       "Swaziland                 4.459000\n",
       "Sweden                    7.455500\n",
       "Switzerland               6.642000\n",
       "Syria                     5.532600\n",
       "Tajikistan                4.944250\n",
       "Tanzania                  3.824143\n",
       "Thailand                  4.795750\n",
       "Togo                      3.928400\n",
       "Tunisia                   5.985000\n",
       "Turkey                    4.451250\n",
       "Turkmenistan              5.019750\n",
       "Uganda                    4.135000\n",
       "Ukraine                   5.734429\n",
       "United Kingdom            6.907000\n",
       "United States             6.853667\n",
       "Uruguay                   6.801000\n",
       "Uzbekistan                5.023600\n",
       "Venezuela                 5.903000\n",
       "Vietnam                   4.676000\n",
       "Yemen                     6.379000\n",
       "Zambia                    4.105500\n",
       "Zimbabwe                  4.409333\n",
       "Name: Happiness Score 2016, Length: 133, dtype: float64"
      ]
     },
     "execution_count": 9,
     "metadata": {},
     "output_type": "execute_result"
    }
   ],
   "source": []
  },
  {
   "cell_type": "code",
   "execution_count": null,
   "metadata": {},
   "outputs": [],
   "source": []
  }
 ],
 "metadata": {
  "kernelspec": {
   "display_name": "Python 3",
   "language": "python",
   "name": "python3"
  },
  "language_info": {
   "codemirror_mode": {
    "name": "ipython",
    "version": 3
   },
   "file_extension": ".py",
   "mimetype": "text/x-python",
   "name": "python",
   "nbconvert_exporter": "python",
   "pygments_lexer": "ipython3",
   "version": "3.7.3"
  }
 },
 "nbformat": 4,
 "nbformat_minor": 2
}
