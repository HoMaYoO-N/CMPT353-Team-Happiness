{
 "cells": [
  {
   "cell_type": "code",
   "execution_count": 1,
   "metadata": {},
   "outputs": [],
   "source": [
    "import numpy as np\n",
    "import pandas as pd"
   ]
  },
  {
   "cell_type": "code",
   "execution_count": 2,
   "metadata": {},
   "outputs": [],
   "source": [
    "borders = pd.read_csv('GEODATASOURCE-COUNTRY-BORDERS.csv')\n",
    "data15 = pd.read_csv('2015.csv')\n",
    "data16 = pd.read_csv('2016.csv')\n",
    "data17 = pd.read_csv('2017.csv')\n",
    "data17 = data17.rename(columns = {'Happiness.Score': 'Happiness Score'})"
   ]
  },
  {
   "cell_type": "code",
   "execution_count": 3,
   "metadata": {},
   "outputs": [],
   "source": [
    "borders = borders[['country_name', 'country_border_name']]\n",
    "borders = borders[borders['country_border_name'].notnull()]\n",
    "data15 = data15[['Country', 'Happiness Score']]\n",
    "data16 = data16[['Country', 'Happiness Score']]\n",
    "data17 = data17[['Country', 'Happiness Score']]"
   ]
  },
  {
   "cell_type": "code",
   "execution_count": 4,
   "metadata": {},
   "outputs": [],
   "source": [
    "borders = pd.merge(borders, data15, how='inner', left_on='country_border_name', right_on='Country')\n",
    "borders = borders.drop(['Country'], axis=1)\n",
    "borders = borders.rename(columns = {'Happiness Score': 'Happiness Score 2015'})\n",
    "borders = pd.merge(borders, data16, how='inner', left_on='country_border_name', right_on='Country')\n",
    "borders = borders.drop(['Country'], axis=1)\n",
    "borders = borders.rename(columns = {'Happiness Score': 'Happiness Score 2016'})\n",
    "borders = pd.merge(borders, data17, how='inner', left_on='country_border_name', right_on='Country')\n",
    "borders = borders.drop(['Country'], axis=1)\n",
    "borders = borders.rename(columns = {'Happiness Score': 'Happiness Score 2017'})\n",
    "borders = borders.rename(columns = {'country_name': 'Country Name', \n",
    "                                    'country_border_name': 'Country Border Name',})"
   ]
  },
  {
   "cell_type": "code",
   "execution_count": null,
   "metadata": {},
   "outputs": [],
   "source": []
  },
  {
   "cell_type": "code",
   "execution_count": null,
   "metadata": {},
   "outputs": [],
   "source": []
  },
  {
   "cell_type": "code",
   "execution_count": null,
   "metadata": {},
   "outputs": [],
   "source": []
  },
  {
   "cell_type": "code",
   "execution_count": null,
   "metadata": {},
   "outputs": [],
   "source": []
  },
  {
   "cell_type": "code",
   "execution_count": null,
   "metadata": {},
   "outputs": [],
   "source": []
  },
  {
   "cell_type": "code",
   "execution_count": null,
   "metadata": {},
   "outputs": [],
   "source": []
  },
  {
   "cell_type": "code",
   "execution_count": null,
   "metadata": {},
   "outputs": [],
   "source": []
  },
  {
   "cell_type": "code",
   "execution_count": null,
   "metadata": {},
   "outputs": [],
   "source": []
  },
  {
   "cell_type": "code",
   "execution_count": null,
   "metadata": {},
   "outputs": [],
   "source": []
  },
  {
   "cell_type": "code",
   "execution_count": null,
   "metadata": {},
   "outputs": [],
   "source": []
  }
 ],
 "metadata": {
  "kernelspec": {
   "display_name": "Python 3",
   "language": "python",
   "name": "python3"
  },
  "language_info": {
   "codemirror_mode": {
    "name": "ipython",
    "version": 3
   },
   "file_extension": ".py",
   "mimetype": "text/x-python",
   "name": "python",
   "nbconvert_exporter": "python",
   "pygments_lexer": "ipython3",
   "version": "3.7.3"
  }
 },
 "nbformat": 4,
 "nbformat_minor": 2
}
